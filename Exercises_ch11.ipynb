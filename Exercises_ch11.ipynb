{
 "cells": [
  {
   "cell_type": "markdown",
   "id": "5bc3ba4c",
   "metadata": {},
   "source": [
    "# Ch11: Survival Analysis and Censored Data"
   ]
  },
  {
   "cell_type": "code",
   "execution_count": 1,
   "id": "5abb773a",
   "metadata": {},
   "outputs": [],
   "source": [
    "import matplotlib.pyplot as plt\n",
    "import numpy as np\n",
    "import pandas as pd\n",
    "import seaborn as sns\n",
    "\n",
    "sns.set_theme()\n",
    "\n",
    "%matplotlib inline"
   ]
  },
  {
   "cell_type": "code",
   "execution_count": 2,
   "id": "b38e8e08",
   "metadata": {},
   "outputs": [],
   "source": [
    "from ISLP import load_data\n",
    "from ISLP.models import ModelSpec as MS\n",
    "from lifelines import CoxPHFitter, KaplanMeierFitter\n",
    "from lifelines.statistics import logrank_test\n"
   ]
  },
  {
   "cell_type": "markdown",
   "id": "c8582a94",
   "metadata": {},
   "source": [
    "## Conceptual\n"
   ]
  },
  {
   "cell_type": "markdown",
   "id": "26769434",
   "metadata": {},
   "source": [
    "### **Q1**\n"
   ]
  },
  {
   "cell_type": "markdown",
   "id": "79ecb733",
   "metadata": {},
   "source": [
    "**(a)** **Independent**, as censoring the patients whose phone numbers start with \"2\" doesn't give us any information about the time to disease relapse for the patient.\n",
    "\n",
    "**(b)** **Not independent**, as censoring patients whose ages exceed $99$ years old is directly related to the event being measured (longevity).\n",
    "\n",
    "**(c)** **Not independent**, as patients who are very sick are likely to have shorter lives, and the variable of interest here is longevity.\n",
    "\n",
    "**(d)** **Not independent**, because censoring here is caused directly by the event (finding work).\n",
    "\n",
    "**(e)** **Not independent**, because censoring is again caused directly by the event happening early (giving birth).\n",
    "\n",
    "**(f)** **Not independent**, because censoring is directly related to the variable studied (years of education), a lot of residents who have higher years of education will likely be censored. \n",
    "\n",
    "**(g)** **Independent**, because the duration of the study is pre-determined to be $5$ years which is unrelated to the prognosis of any of the patients.\n",
    "\n",
    "**(h)** **Independent**, since the components have no difference in quality, the censoring time doesn't tell us which is likely to last longer.\n",
    "\n",
    "**(i)** **Not independent**, as knowing the censoring time tells which of the components will last longer since we know components from the older factory are of higher quality."
   ]
  },
  {
   "cell_type": "markdown",
   "id": "45d52a02",
   "metadata": {},
   "source": [
    "### **Q2** \n"
   ]
  },
  {
   "cell_type": "markdown",
   "id": "63d2a899",
   "metadata": {
    "vscode": {
     "languageId": "plaintext"
    }
   },
   "source": [
    "**(a)** \n",
    "1. Not censored.\n",
    "2. Censored.\n",
    "3. Censored.\n",
    "4. Not censored.\n"
   ]
  },
  {
   "cell_type": "markdown",
   "id": "392393d6",
   "metadata": {},
   "source": [
    "**(b)**\n",
    "\n",
    "1. $c_1$ is not known. \n",
    "2. $c_2 = 2 \\space \\text{years}$\n",
    "3. $c_3 = 1.5 \\space \\text{years}$\n",
    "4. $c_4$ is not known."
   ]
  },
  {
   "cell_type": "markdown",
   "id": "f21bf273",
   "metadata": {},
   "source": [
    "**(c)** \n",
    "\n",
    "1. $t_1 = 1.2 \\space \\text{years}$ \n",
    "2. $t_2$ is not known.\n",
    "3. $t_3$ is not known.\n",
    "4. $t_4 = 0.2 \\space \\text{years}$"
   ]
  },
  {
   "cell_type": "markdown",
   "id": "24b14a4f",
   "metadata": {},
   "source": [
    "**(d)**\n",
    "\n",
    "1. $y_1 = 1.2 \\space \\text{years}$ \n",
    "2. $y_2 = 2 \\space \\text{years}$\n",
    "3. $y_3 = 1.5 \\space \\text{years}$\n",
    "4. $y_4 = 0.2 \\space \\text{years}$"
   ]
  },
  {
   "cell_type": "markdown",
   "id": "5b4012b3",
   "metadata": {},
   "source": [
    "**(e)**\n",
    "\n",
    "1. $\\delta_1 = 1$ \n",
    "2. $\\delta_2 = 0$\n",
    "3. $\\delta_3 = 0$\n",
    "4. $\\delta_4 = 1$"
   ]
  },
  {
   "cell_type": "markdown",
   "id": "5fd281e7",
   "metadata": {},
   "source": [
    "### **Q3**"
   ]
  },
  {
   "cell_type": "markdown",
   "id": "d707144f",
   "metadata": {},
   "source": [
    "We have **2 non-censored events** (phone replacements) so:  \n",
    "\n",
    "$$\n",
    "K = 2\n",
    "$$"
   ]
  },
  {
   "cell_type": "markdown",
   "id": "0ed999fd",
   "metadata": {},
   "source": [
    "$ d_k $: The unique event times for non-censored participants.  \n",
    "\n",
    "$$\n",
    "d_1 = 0.2 \\text{ years} \\quad d_2 = 1.2 \\text{ years}\n",
    "$$"
   ]
  },
  {
   "cell_type": "markdown",
   "id": "1ffcf27a",
   "metadata": {},
   "source": [
    "$ r_k $: The number of phones available for replacement just before $d_k$.\n",
    "\n",
    "$$\n",
    "r_1 = 4 \\quad r_2 = 3\n",
    "$$"
   ]
  },
  {
   "cell_type": "markdown",
   "id": "ed68d894",
   "metadata": {},
   "source": [
    "$ q_k $: The number of phones replaced at time $d_k$.\n",
    "\n",
    "$$\n",
    "q_1 = 1 \\quad q_2 = 1\n",
    "$$"
   ]
  },
  {
   "cell_type": "markdown",
   "id": "64d61e15",
   "metadata": {},
   "source": [
    "### **Q4**"
   ]
  },
  {
   "cell_type": "markdown",
   "id": "2f7c5434",
   "metadata": {},
   "source": [
    "**(a)** The estimated probability past a time $d_k$ is:\n",
    "\n",
    "$$\n",
    "\\hat S(d_k) = \\prod_{j=1}^k \\left( \\frac{r_j - q_j}{r_j} \\right) \n",
    "$$\n",
    "\n",
    "For a time $t$ that's greater than $d_k$ and less than $d_{k+1}$:\n",
    "\n",
    "$$\n",
    "\\hat S(t) = \\hat S(d_k)\n",
    "$$\n"
   ]
  },
  {
   "cell_type": "markdown",
   "id": "c98d0aa3",
   "metadata": {},
   "source": [
    "For $t = 50$:\n",
    "\n",
    "$$\n",
    "\\hat S(50) = \\hat S(d_2) = \\hat S(37.2)\n",
    "$$"
   ]
  },
  {
   "cell_type": "markdown",
   "id": "dabc18d8",
   "metadata": {},
   "source": [
    "Which means the estimated probability of survival past $50$ days is the same as that for $37.2$ days, which is:\n",
    "\n",
    "$$\n",
    "\\hat S(d_2)  = \\left( \\frac{r_2 - q_2}{r_2} \\right) \\times \\left( \\frac{r_1 - q_1}{r_1} \\right)\n",
    "$$"
   ]
  },
  {
   "cell_type": "markdown",
   "id": "3eb0a9bf",
   "metadata": {},
   "source": [
    "We can easily find the values for $r_j$ and $q_j$ from the table.\n",
    "\n",
    "$$\n",
    "r_1 = 5 \\quad q_1 = 1 \n",
    "$$\n",
    "\n",
    "$$\n",
    "r_2 = 4 \\quad q_2 = 1 \n",
    "$$\n",
    "\n",
    "Plugging in the equation above:"
   ]
  },
  {
   "cell_type": "code",
   "execution_count": 3,
   "id": "9e3470ca",
   "metadata": {},
   "outputs": [
    {
     "data": {
      "text/plain": [
       "0.6"
      ]
     },
     "execution_count": 3,
     "metadata": {},
     "output_type": "execute_result"
    }
   ],
   "source": [
    "r1 = 5\n",
    "q1 = 1\n",
    "r2 = 4\n",
    "q2 = 1\n",
    "S = (r2 - q2) / r2 * (r1 - q1) / r1\n",
    "S"
   ]
  },
  {
   "cell_type": "markdown",
   "id": "3b152353",
   "metadata": {},
   "source": [
    "$$\n",
    "\\hat S(50) = 60\\%\n",
    "$$"
   ]
  },
  {
   "cell_type": "markdown",
   "id": "53faa0c0",
   "metadata": {},
   "source": [
    "**(b)**\n",
    "\n",
    "$$\n",
    "\\hat S(t) = \n",
    "\\begin{cases}\n",
    "1 &     \\text{if} \\space t \\lt 26.5 \\\\\n",
    "0.8 &   \\text{if} \\space 26.5 \\le t \\lt 37.2 \\\\\n",
    "0.6 &   \\text{if} \\space 36.2 \\le t \\lt 57.3 \\\\\n",
    "0.4 &   \\text{if} \\space t \\ge 57.3 \\\\\n",
    "\\end{cases}\n",
    "$$"
   ]
  },
  {
   "cell_type": "markdown",
   "id": "9a292097",
   "metadata": {},
   "source": [
    "### **Q5**"
   ]
  },
  {
   "cell_type": "code",
   "execution_count": 4,
   "id": "3ebf63f5",
   "metadata": {},
   "outputs": [
    {
     "data": {
      "image/png": "[encoded data removed]",
      "text/plain": [
       "<Figure size 640x480 with 1 Axes>"
      ]
     },
     "metadata": {},
     "output_type": "display_data"
    }
   ],
   "source": [
    "with plt.xkcd():\n",
    "    plt.rcParams[\"font.family\"] = \"DejaVu Sans\"  # to get rid of xkcd font warnings\n",
    "\n",
    "    def S(t):\n",
    "        if t < 31:\n",
    "            return 0.8\n",
    "        elif 31 <= t < 77:\n",
    "            return 0.5\n",
    "        elif t >= 77:\n",
    "            return 0.22\n",
    "\n",
    "    t = np.linspace(0, 100, 101)\n",
    "    s = np.vectorize(S, otypes=[float])(t)\n",
    "\n",
    "    plt.plot(t, s)\n",
    "    plt.xlabel(\"Time in Days\")\n",
    "    plt.ylabel(\"Estimated Probability of Survival\")\n",
    "    plt.xlim([0, 110])\n",
    "    plt.ylim([0, 1])"
   ]
  },
  {
   "cell_type": "markdown",
   "id": "04a0a8b3",
   "metadata": {},
   "source": [
    "\n",
    "### **Q6**\n"
   ]
  },
  {
   "cell_type": "markdown",
   "id": "354dfdea",
   "metadata": {},
   "source": [
    "**(a)**"
   ]
  },
  {
   "cell_type": "markdown",
   "id": "9a77e7fc",
   "metadata": {},
   "source": [
    "$\\delta_i$: The censoring indicator variable. \n",
    "\n",
    "$$\n",
    "\\delta_1 = 1 \\quad \\delta_2 = 0 \\quad \\delta_3 = 1 \\quad \\delta_4 = 0 \n",
    "$$\n",
    "\n",
    "We have **2 non-censored events** so:  \n",
    "\n",
    "$$\n",
    "K = 2\n",
    "$$"
   ]
  },
  {
   "cell_type": "markdown",
   "id": "7d24dde8",
   "metadata": {},
   "source": [
    "$ d_k $: The unique event times for non-censored patients.  \n",
    "\n",
    "$$\n",
    "d_1 = 150 \\space \\text{days} \\quad d_2 = 300 \\space \\text{days}\n",
    "$$"
   ]
  },
  {
   "cell_type": "markdown",
   "id": "99937d75",
   "metadata": {},
   "source": [
    "$ r_k $: The number of patients at risk just before $d_k$.\n",
    "\n",
    "$$\n",
    "r_1 = 4 \\quad r_2 = 2\n",
    "$$"
   ]
  },
  {
   "cell_type": "markdown",
   "id": "2b33e93b",
   "metadata": {},
   "source": [
    "$ q_k $: The number of deaths at time $d_k$.\n",
    "\n",
    "$$\n",
    "q_1 = 1 \\quad q_2 = 1\n",
    "$$\n"
   ]
  },
  {
   "cell_type": "markdown",
   "id": "a9ce6816",
   "metadata": {},
   "source": [
    "**(b)**\n",
    "\n"
   ]
  },
  {
   "cell_type": "code",
   "execution_count": 5,
   "id": "1c34e6c6",
   "metadata": {},
   "outputs": [
    {
     "data": {
      "image/png": "[encoded data removed]",
      "text/plain": [
       "<Figure size 640x480 with 1 Axes>"
      ]
     },
     "metadata": {},
     "output_type": "display_data"
    }
   ],
   "source": [
    "with plt.xkcd():\n",
    "    plt.rcParams[\"font.family\"] = \"DejaVu Sans\"  # to get rid of xkcd font warnings\n",
    "\n",
    "    def S(t):\n",
    "        if t < 150:\n",
    "            return 1\n",
    "        elif 150 <= t < 300:\n",
    "            return (4 - 1) / 4\n",
    "        elif t >= 300:\n",
    "            return ((2 - 1) / 2) * ((4 - 1) / 4)\n",
    "\n",
    "    t = np.arange(0, 401)\n",
    "    s = np.vectorize(S, otypes=[float])(t)\n",
    "\n",
    "    plt.plot(t, s)\n",
    "    plt.xlabel(\"Time in Days\")\n",
    "    plt.ylabel(\"Estimated Probability of Survival\")\n",
    "    plt.xlim([0, 410])\n",
    "    plt.ylim([0, 1.1])"
   ]
  },
  {
   "cell_type": "markdown",
   "id": "b2bb47ea",
   "metadata": {},
   "source": [
    "**(c)**\n",
    "The probability that the event happens within $200$ days is:\n",
    "\n",
    "$$\n",
    "1 - \\hat S(200) = 1 - 0.75 = 0.25 = 25\\%\n",
    "$$"
   ]
  },
  {
   "cell_type": "markdown",
   "id": "c788245d",
   "metadata": {},
   "source": [
    "\n",
    "The probability that the event doesn't occur within $310$ days is:\n",
    "\n",
    "$$\n",
    "\\hat S(310) = 0.375 = 37.5\\%\n",
    "$$"
   ]
  },
  {
   "cell_type": "markdown",
   "id": "3dacaeb7",
   "metadata": {},
   "source": [
    "**(d)** \n",
    "\n",
    "This would be the expression for that estimated survival curve:\n",
    "\n",
    "$$\n",
    "\\hat S(t) =\n",
    "\\begin{cases}\n",
    "1 &     \\text{if} \\space t < 150 \\\\\n",
    "0.75 &   \\text{if} \\space 150 \\le t < 300 \\\\\n",
    "0.375 &   \\text{if} \\space t \\ge 300 \\\\\n",
    "\\end{cases}\n",
    "$$"
   ]
  },
  {
   "cell_type": "markdown",
   "id": "1c0aee9d",
   "metadata": {},
   "source": [
    "### **Q7**\n"
   ]
  },
  {
   "cell_type": "markdown",
   "id": "f54f912f",
   "metadata": {},
   "source": [
    "**(a)** From the definition of the hypergeometric distribution ([wikipedia's](https://en.wikipedia.org/wiki/Hypergeometric_distributio )):\n",
    "\n",
    "The probability of $k$ successes (random draws for which the object drawn has a specified feature) in $n$ draws, without replacement, from a finite population of size $N$ that contains exactly $K$ objects with that feature, wherein each draw is either a success or a failure.\n",
    "\n",
    "$$\n",
    "P(X=k) = \\frac{\\binom{K}{k} \\binom{N-K}{n-k}}{\\binom{N}{n}}\n",
    "$$\n"
   ]
  },
  {
   "cell_type": "markdown",
   "id": "6bbda456",
   "metadata": {},
   "source": [
    "For our case that would be the probability of $q_{1k}$ failures, in $r_{1k}$ draws, without replacement, from a risk set of $r_k$ observations that contains a total of $q_k$ failures.\n",
    "\n",
    "$$\n",
    "P(X=q_{1k}) = \\frac{\\binom{q_k}{q_{1k}} \\binom{r_k-q_k}{r_{1k}-q_{1k}}}{\\binom{r_k}{r_{1k}}}\n",
    "$$"
   ]
  },
  {
   "cell_type": "markdown",
   "id": "dec01f81",
   "metadata": {},
   "source": [
    "The equivalent variable for each\n",
    "\n",
    "$$\n",
    "k = q_{1k} \\quad K = q_k \\quad n = r_{1k} \\quad N = r_k\n",
    "$$"
   ]
  },
  {
   "cell_type": "markdown",
   "id": "48d3842a",
   "metadata": {},
   "source": [
    "**(b)** Given the mean and variance of the hypergeometric distribution:\n",
    "\n",
    "$$\n",
    "E[X] = n \\frac{K}{N} = r_{1k} \\frac{q_k}{r_k} = \\mu_k\n",
    "$$\n",
    "\n",
    "$$\n",
    "Var(X) = n \\frac{K}{N} \\frac{N-K}{N} \\frac{N-n}{N-1} = r_{1k} \\frac{q_k}{r_k} \\frac{r_k-q_k}{r_k} \\frac{r_k-r_{1k}}{r_k-1} = Var(q_{1k})\n",
    "$$"
   ]
  },
  {
   "cell_type": "markdown",
   "id": "71fac2e0",
   "metadata": {},
   "source": [
    "Comparing to the equations in the book (11.5) and (11.6) we can see that they're equivalent."
   ]
  },
  {
   "cell_type": "markdown",
   "id": "072877af",
   "metadata": {},
   "source": [
    "\n",
    "### **Q8**\n"
   ]
  },
  {
   "cell_type": "markdown",
   "id": "05db04b4",
   "metadata": {},
   "source": [
    "The given function definitions:\n",
    "\n",
    "$$\n",
    "S(t) = \\Pr(T > t)\n",
    "$$\n",
    "\n",
    "$$\n",
    "h(t) = \\lim_{\\Delta t \\to 0} \\frac{\\Pr(t < T \\leq t + \\Delta t | T > t)}{\\Delta t}\n",
    "$$\n",
    "\n",
    "$$\n",
    "f(t) = \\lim_{\\Delta t \\to 0} \\frac{\\Pr(t < T \\leq t + \\Delta t)}{\\Delta t}\n",
    "$$"
   ]
  },
  {
   "cell_type": "markdown",
   "id": "1150502f",
   "metadata": {},
   "source": [
    "Defining $F(t) = 1 - S(t)$:\n",
    "\n",
    "$$\n",
    "F(t) = 1 - \\Pr(T \\gt t) = \\Pr(T \\lt t) \n",
    "$$"
   ]
  },
  {
   "cell_type": "markdown",
   "id": "a3f1dd2c",
   "metadata": {},
   "source": [
    "---\n",
    "Proving that $f(t) = dF(t)/dt$ holds:"
   ]
  },
  {
   "cell_type": "markdown",
   "id": "8ec86bf6",
   "metadata": {},
   "source": [
    "$$\n",
    "\\frac{d}{dt} F(t) = \\frac{d}{dt} \\Pr(T < t)\n",
    "$$"
   ]
  },
  {
   "cell_type": "markdown",
   "id": "607f668c",
   "metadata": {},
   "source": [
    "Using the definition of the derivative to expand the R.H.S:\n",
    "\n",
    "$$\n",
    "\\frac{d}{dx} f(x) = \\lim_{\\Delta x \\to 0} \\frac{f(x + \\Delta x) - f(x)}{\\Delta x}\n",
    "$$\n",
    "\n",
    "$$\n",
    "\\frac{d}{dt} \\Pr(T < t) = \\lim_{\\Delta t \\to 0} \\frac{\\Pr(T < t + \\Delta t) - \\Pr(T < t)}{\\Delta t}\n",
    "$$"
   ]
  },
  {
   "cell_type": "markdown",
   "id": "6e97aa1b",
   "metadata": {},
   "source": [
    "\n",
    "Simplifying the expression on the right:\n",
    "\n",
    "$$\n",
    "\\frac{d}{dt} \\Pr(T < t) = \\lim_{\\Delta t \\to 0} \\frac{\\Pr(t < T \\leq t + \\Delta t)}{\\Delta t} = f(t)\n",
    "$$\n",
    "\n",
    "Thus, we have shown that $f(t) = dF(t)/dt$.\n",
    "___"
   ]
  },
  {
   "cell_type": "markdown",
   "id": "6aa7f705",
   "metadata": {},
   "source": [
    "Prove that:\n",
    "\n",
    "$$\n",
    "S(t) = \\exp\\left(-\\int_{0}^{t} h(u)du \\right) \\\\\n",
    "$$"
   ]
  },
  {
   "cell_type": "markdown",
   "id": "70a0c44b",
   "metadata": {},
   "source": [
    "From the book (11.10):\n",
    "\n",
    "$$\n",
    "h(t) = \\frac{f(t)}{S(t)}\n",
    "$$ \n",
    "\n",
    "Using the equation we proved eariler:\n",
    "\n",
    "$$\n",
    "h(t) = \\frac{1}{S(t)} \\frac{dF(t)}{dt} \n",
    "$$"
   ]
  },
  {
   "cell_type": "markdown",
   "id": "bb5e2c8d",
   "metadata": {},
   "source": [
    "Substituting for $h(u)$ then doing a change of variables using $F(u) = 1 - S(u)$ and $dF(u) = -dS(u)$:\n",
    "\n",
    "\\begin{align*}\n",
    "S(t) &= \\exp\\left(-\\int_{0}^{t} h(u)du \\right) \\\\\n",
    "&= \\exp \\left( -\\int_{0}^{t} \\frac{1}{S(u)} \\frac{dF(u)}{du} du \\right) \\\\\n",
    "&= \\exp \\left( -\\int_{S(0)}^{S(t)} \\frac{1}{S(u)} -dS(u) \\right) \\\\\n",
    "&= \\exp \\left( \\ln(S(u))\\biggr\\rvert^{S(t)}_{S(0)} \\right) \\\\\n",
    "&= \\exp \\left( \\ln(S(t)) - \\ln(S(0) )\\right)\n",
    "\\end{align*} "
   ]
  },
  {
   "cell_type": "markdown",
   "id": "b93ec571",
   "metadata": {},
   "source": [
    "Knowing that the probability of survival at time $0$ is $1$:\n",
    "\n",
    "$$\n",
    "S(0) = 1\n",
    "$$"
   ]
  },
  {
   "cell_type": "markdown",
   "id": "5192c186",
   "metadata": {},
   "source": [
    "\n",
    "Substituting above:\n",
    "\n",
    "\\begin{align*}\n",
    "&= \\exp(\\ln(S(t)) - \\ln(1))  \\\\\n",
    "&= \\exp(\\ln(S(t)))           \\\\\n",
    "&= S(t)\n",
    "\\end{align*}\n",
    "\n",
    "Which is what we set out to prove."
   ]
  },
  {
   "cell_type": "markdown",
   "id": "b10efb4a",
   "metadata": {},
   "source": [
    "\n",
    "### **Q9**\n"
   ]
  },
  {
   "cell_type": "markdown",
   "id": "001df793",
   "metadata": {},
   "source": [
    "**(a)** Given that:\n",
    "\n",
    "\\begin{align*}\n",
    "f(t) = \\lambda \\exp(-\\lambda t) \\\\\n",
    "F(t) = 1 - S(t) \\\\\n",
    "f(t) = dF(t)/dt \\\\\n",
    "\\end{align*}\n",
    "\n",
    "Show that:\n",
    "\n",
    "$$\n",
    "S(t) = \\exp(-\\lambda t)\n",
    "$$"
   ]
  },
  {
   "cell_type": "markdown",
   "id": "08ef4af3",
   "metadata": {},
   "source": [
    "Taking the antiderivative of $f(t)$ to find $F(t)$:\n",
    "\n",
    "$$\n",
    "F(t) = \\int_{0}^{t} f(\\tau) d\\tau\n",
    "$$"
   ]
  },
  {
   "cell_type": "markdown",
   "id": "f59df6c6",
   "metadata": {},
   "source": [
    "Substituting for $F(t)$ and $f(t)$:\n",
    "\n",
    "\\begin{align*}\n",
    "S(t) &= 1 - \\int_{0}^{t} \\lambda \\exp(-\\lambda \\tau) d\\tau \\\\\n",
    "     &= 1 - (-\\exp(- \\lambda t) \\biggr \\rvert_{0}^{t})  \\\\\n",
    "     &= 1 - (-\\exp(-\\lambda t) + \\exp(0))  \\\\\n",
    "     &= 1 - (1 - \\exp(-\\lambda t))  \\\\\n",
    "     &= \\exp(-\\lambda t)  \\\\\n",
    "\\end{align*}\n",
    "\n",
    "which is what we set out to prove."
   ]
  },
  {
   "cell_type": "markdown",
   "id": "fcbeddb3",
   "metadata": {},
   "source": [
    "\n",
    "**(b)**\n"
   ]
  },
  {
   "cell_type": "markdown",
   "id": "9bd73a54",
   "metadata": {},
   "source": [
    "The likelihood of the $i\\text{th}$ observation is:\n",
    "\n",
    "\\begin{align*}\n",
    "L_i &= \n",
    "\\begin{cases}\n",
    "f(y_i)  \\quad \\text{ if the ith observation is not censored}\\\\\n",
    "S(y_i)  \\quad \\text{ if the ith observation is censored} \\\\\n",
    "\\end{cases}  \\\\\n",
    "&= f(y_i)^{\\delta_i} S(y_i)^{1 - \\delta_i} \\\\\n",
    "&= (\\lambda \\exp(-\\lambda y_i))^{\\delta_i} (\\exp(-\\lambda y_i))^{1 - \\delta_i} \\\\\n",
    "&= \\lambda^{\\delta_i} (\\exp(-\\lambda y_i))^{\\delta_i} \\frac{(\\exp(-\\lambda y_i))^{1}}{(\\exp(-\\lambda y_i))^{\\delta_i}} \\\\\n",
    "&= \\lambda^{\\delta_i} \\exp(-\\lambda y_i) \\\\\n",
    "\\end{align*}"
   ]
  },
  {
   "cell_type": "markdown",
   "id": "c8cba4ab",
   "metadata": {},
   "source": [
    "The likelihood of the data is the product of the likelihoods for each of the $n$ independent observations:\n",
    "\n",
    "\\begin{align*}\n",
    "L = \\prod_{i = 1}^{n} L_i &= \\prod_{i = 1}^{n} \\lambda^{\\delta_i} \\exp(-\\lambda y_i) \\\\\n",
    "\\end{align*}"
   ]
  },
  {
   "cell_type": "markdown",
   "id": "4cd6d415",
   "metadata": {},
   "source": [
    "\n",
    "**(c)**\n"
   ]
  },
  {
   "cell_type": "markdown",
   "id": "8ad0c339",
   "metadata": {},
   "source": [
    "To derive the maximum likelihood estimator for $\\lambda$, we start by maximizing the log of the likelihood we derived earlier:\n",
    "\n",
    "\\begin{align*}\n",
    "\\ell(\\lambda) = \\ln(L) &= \\ln \\left( \\prod_{i = 1}^{n} \\lambda^{\\delta_i} \\exp(-\\lambda y_i) \\right) \\\\\n",
    "                        &= \\ln \\left( \\frac{\\prod_{i = 1}^{n} \\lambda^{\\delta_i}}{\\prod_{i = 1}^{n} \\exp(\\lambda y_i)} \\right) \\\\\n",
    "                        &= \\ln \\left( \\lambda^{\\sum_{i = 1}^n \\delta_i} \\right) - \\left(\\lambda \\sum_{i = 1}^n  y_i \\right) \\\\\n",
    "                        &= \\left( \\ln( \\lambda) \\sum_{i = 1}^n \\delta_i \\right) - \\left(\\lambda \\sum_{i = 1}^n  y_i \\right) \\\\\n",
    "\\end{align*}"
   ]
  },
  {
   "cell_type": "markdown",
   "id": "97c8929f",
   "metadata": {},
   "source": [
    "To maximize $\\ell(\\lambda)$ we set its derivative equal to zero:\n",
    "\n",
    "$$\n",
    "\\frac{d\\ell(\\lambda)}{d\\lambda} = 0\n",
    "$$\n",
    "\n",
    "$$\n",
    "\\frac{d\\ell(\\lambda)}{d\\lambda} = \\frac{1}{\\lambda} \\sum_{i = 1}^n \\delta_i -  \\sum_{i = 1}^n  y_i \n",
    "$$"
   ]
  },
  {
   "cell_type": "markdown",
   "id": "7a7fa695",
   "metadata": {},
   "source": [
    "Equating it to $0$ and solving for $\\lambda$:\n",
    "\n",
    "$$\n",
    "\\frac{1}{\\lambda} \\sum_{i = 1}^n \\delta_i -  \\sum_{i = 1}^n  y_i = 0 \\\\\n",
    "$$\n",
    "\n",
    "The maximum likelihood estimate for $\\lambda$ would be:\n",
    "\n",
    "$$\n",
    "\\hat \\lambda = \\sum_{i = 1}^n \\delta_i/\\sum_{i = 1}^n  y_i \\\\\n",
    "$$"
   ]
  },
  {
   "cell_type": "markdown",
   "id": "d98e2a7b",
   "metadata": {},
   "source": [
    "Which is what we set out to prove."
   ]
  },
  {
   "cell_type": "markdown",
   "id": "bc32121e",
   "metadata": {},
   "source": [
    "**(d)** Since the mean of an $Exp(\\lambda)$ random variable is $1/\\lambda$, we can use the $\\text{MLE}$ for $\\lambda$ we got in part **(c)**:\n",
    "\n",
    "\\begin{align*}\n",
    "\\hat \\mu &= \\frac{1}{\\hat \\lambda} \\\\ \n",
    "         &= \\frac{1}{\\sum_{i = 1}^n \\delta_i/\\sum_{i = 1}^n  y_i} \\\\\n",
    "         &= \\sum_{i = 1}^n y_i /\\sum_{i = 1}^n \\delta_i \\\\\n",
    "\\end{align*}"
   ]
  },
  {
   "cell_type": "markdown",
   "id": "2ea49e08",
   "metadata": {},
   "source": [
    "## Applied"
   ]
  },
  {
   "cell_type": "markdown",
   "id": "c615c346",
   "metadata": {},
   "source": [
    "### **Q10**\n"
   ]
  },
  {
   "cell_type": "code",
   "execution_count": 6,
   "id": "a2690740",
   "metadata": {},
   "outputs": [
    {
     "data": {
      "text/html": [
       "<div>\n",
       "<style scoped>\n",
       "    .dataframe tbody tr th:only-of-type {\n",
       "        vertical-align: middle;\n",
       "    }\n",
       "\n",
       "    .dataframe tbody tr th {\n",
       "        vertical-align: top;\n",
       "    }\n",
       "\n",
       "    .dataframe thead th {\n",
       "        text-align: right;\n",
       "    }\n",
       "</style>\n",
       "<table border=\"1\" class=\"dataframe\">\n",
       "  <thead>\n",
       "    <tr style=\"text-align: right;\">\n",
       "      <th></th>\n",
       "      <th>sex</th>\n",
       "      <th>diagnosis</th>\n",
       "      <th>loc</th>\n",
       "      <th>ki</th>\n",
       "      <th>gtv</th>\n",
       "      <th>stereo</th>\n",
       "      <th>status</th>\n",
       "      <th>time</th>\n",
       "    </tr>\n",
       "  </thead>\n",
       "  <tbody>\n",
       "    <tr>\n",
       "      <th>0</th>\n",
       "      <td>Female</td>\n",
       "      <td>Meningioma</td>\n",
       "      <td>Infratentorial</td>\n",
       "      <td>90</td>\n",
       "      <td>6.11</td>\n",
       "      <td>SRS</td>\n",
       "      <td>0</td>\n",
       "      <td>57.64</td>\n",
       "    </tr>\n",
       "    <tr>\n",
       "      <th>1</th>\n",
       "      <td>Male</td>\n",
       "      <td>HG glioma</td>\n",
       "      <td>Supratentorial</td>\n",
       "      <td>90</td>\n",
       "      <td>19.35</td>\n",
       "      <td>SRT</td>\n",
       "      <td>1</td>\n",
       "      <td>8.98</td>\n",
       "    </tr>\n",
       "    <tr>\n",
       "      <th>2</th>\n",
       "      <td>Female</td>\n",
       "      <td>Meningioma</td>\n",
       "      <td>Infratentorial</td>\n",
       "      <td>70</td>\n",
       "      <td>7.95</td>\n",
       "      <td>SRS</td>\n",
       "      <td>0</td>\n",
       "      <td>26.46</td>\n",
       "    </tr>\n",
       "    <tr>\n",
       "      <th>3</th>\n",
       "      <td>Female</td>\n",
       "      <td>LG glioma</td>\n",
       "      <td>Supratentorial</td>\n",
       "      <td>80</td>\n",
       "      <td>7.61</td>\n",
       "      <td>SRT</td>\n",
       "      <td>1</td>\n",
       "      <td>47.80</td>\n",
       "    </tr>\n",
       "    <tr>\n",
       "      <th>4</th>\n",
       "      <td>Male</td>\n",
       "      <td>HG glioma</td>\n",
       "      <td>Supratentorial</td>\n",
       "      <td>90</td>\n",
       "      <td>5.06</td>\n",
       "      <td>SRT</td>\n",
       "      <td>1</td>\n",
       "      <td>6.30</td>\n",
       "    </tr>\n",
       "  </tbody>\n",
       "</table>\n",
       "</div>"
      ],
      "text/plain": [
       "      sex   diagnosis             loc  ki    gtv stereo  status   time\n",
       "0  Female  Meningioma  Infratentorial  90   6.11    SRS       0  57.64\n",
       "1    Male   HG glioma  Supratentorial  90  19.35    SRT       1   8.98\n",
       "2  Female  Meningioma  Infratentorial  70   7.95    SRS       0  26.46\n",
       "3  Female   LG glioma  Supratentorial  80   7.61    SRT       1  47.80\n",
       "4    Male   HG glioma  Supratentorial  90   5.06    SRT       1   6.30"
      ]
     },
     "execution_count": 6,
     "metadata": {},
     "output_type": "execute_result"
    }
   ],
   "source": [
    "BrainCancer = load_data(\"BrainCancer\")\n",
    "BrainCancer.head()"
   ]
  },
  {
   "cell_type": "code",
   "execution_count": 7,
   "id": "95a91869",
   "metadata": {},
   "outputs": [
    {
     "data": {
      "text/html": [
       "<div>\n",
       "<style scoped>\n",
       "    .dataframe tbody tr th:only-of-type {\n",
       "        vertical-align: middle;\n",
       "    }\n",
       "\n",
       "    .dataframe tbody tr th {\n",
       "        vertical-align: top;\n",
       "    }\n",
       "\n",
       "    .dataframe thead th {\n",
       "        text-align: right;\n",
       "    }\n",
       "</style>\n",
       "<table border=\"1\" class=\"dataframe\">\n",
       "  <thead>\n",
       "    <tr style=\"text-align: right;\">\n",
       "      <th></th>\n",
       "      <th>ki</th>\n",
       "      <th>gtv</th>\n",
       "      <th>status</th>\n",
       "      <th>time</th>\n",
       "    </tr>\n",
       "  </thead>\n",
       "  <tbody>\n",
       "    <tr>\n",
       "      <th>count</th>\n",
       "      <td>88.000000</td>\n",
       "      <td>88.000000</td>\n",
       "      <td>88.000000</td>\n",
       "      <td>88.000000</td>\n",
       "    </tr>\n",
       "    <tr>\n",
       "      <th>mean</th>\n",
       "      <td>81.022727</td>\n",
       "      <td>8.660795</td>\n",
       "      <td>0.397727</td>\n",
       "      <td>27.457500</td>\n",
       "    </tr>\n",
       "    <tr>\n",
       "      <th>std</th>\n",
       "      <td>10.508866</td>\n",
       "      <td>8.657576</td>\n",
       "      <td>0.492233</td>\n",
       "      <td>20.124412</td>\n",
       "    </tr>\n",
       "    <tr>\n",
       "      <th>min</th>\n",
       "      <td>40.000000</td>\n",
       "      <td>0.010000</td>\n",
       "      <td>0.000000</td>\n",
       "      <td>0.070000</td>\n",
       "    </tr>\n",
       "    <tr>\n",
       "      <th>25%</th>\n",
       "      <td>80.000000</td>\n",
       "      <td>2.500000</td>\n",
       "      <td>0.000000</td>\n",
       "      <td>10.392500</td>\n",
       "    </tr>\n",
       "    <tr>\n",
       "      <th>50%</th>\n",
       "      <td>80.000000</td>\n",
       "      <td>6.510000</td>\n",
       "      <td>0.000000</td>\n",
       "      <td>24.030000</td>\n",
       "    </tr>\n",
       "    <tr>\n",
       "      <th>75%</th>\n",
       "      <td>90.000000</td>\n",
       "      <td>12.100000</td>\n",
       "      <td>1.000000</td>\n",
       "      <td>41.597500</td>\n",
       "    </tr>\n",
       "    <tr>\n",
       "      <th>max</th>\n",
       "      <td>100.000000</td>\n",
       "      <td>34.640000</td>\n",
       "      <td>1.000000</td>\n",
       "      <td>82.560000</td>\n",
       "    </tr>\n",
       "  </tbody>\n",
       "</table>\n",
       "</div>"
      ],
      "text/plain": [
       "               ki        gtv     status       time\n",
       "count   88.000000  88.000000  88.000000  88.000000\n",
       "mean    81.022727   8.660795   0.397727  27.457500\n",
       "std     10.508866   8.657576   0.492233  20.124412\n",
       "min     40.000000   0.010000   0.000000   0.070000\n",
       "25%     80.000000   2.500000   0.000000  10.392500\n",
       "50%     80.000000   6.510000   0.000000  24.030000\n",
       "75%     90.000000  12.100000   1.000000  41.597500\n",
       "max    100.000000  34.640000   1.000000  82.560000"
      ]
     },
     "execution_count": 7,
     "metadata": {},
     "output_type": "execute_result"
    }
   ],
   "source": [
    "BrainCancer.describe()"
   ]
  },
  {
   "cell_type": "code",
   "execution_count": 8,
   "id": "abd28cb1",
   "metadata": {},
   "outputs": [
    {
     "data": {
      "text/html": [
       "<div>\n",
       "<style scoped>\n",
       "    .dataframe tbody tr th:only-of-type {\n",
       "        vertical-align: middle;\n",
       "    }\n",
       "\n",
       "    .dataframe tbody tr th {\n",
       "        vertical-align: top;\n",
       "    }\n",
       "\n",
       "    .dataframe thead th {\n",
       "        text-align: right;\n",
       "    }\n",
       "</style>\n",
       "<table border=\"1\" class=\"dataframe\">\n",
       "  <thead>\n",
       "    <tr style=\"text-align: right;\">\n",
       "      <th></th>\n",
       "      <th>sex</th>\n",
       "      <th>diagnosis</th>\n",
       "      <th>loc</th>\n",
       "      <th>stereo</th>\n",
       "    </tr>\n",
       "  </thead>\n",
       "  <tbody>\n",
       "    <tr>\n",
       "      <th>count</th>\n",
       "      <td>88</td>\n",
       "      <td>87</td>\n",
       "      <td>88</td>\n",
       "      <td>88</td>\n",
       "    </tr>\n",
       "    <tr>\n",
       "      <th>unique</th>\n",
       "      <td>2</td>\n",
       "      <td>4</td>\n",
       "      <td>2</td>\n",
       "      <td>2</td>\n",
       "    </tr>\n",
       "    <tr>\n",
       "      <th>top</th>\n",
       "      <td>Female</td>\n",
       "      <td>Meningioma</td>\n",
       "      <td>Supratentorial</td>\n",
       "      <td>SRT</td>\n",
       "    </tr>\n",
       "    <tr>\n",
       "      <th>freq</th>\n",
       "      <td>45</td>\n",
       "      <td>42</td>\n",
       "      <td>69</td>\n",
       "      <td>65</td>\n",
       "    </tr>\n",
       "  </tbody>\n",
       "</table>\n",
       "</div>"
      ],
      "text/plain": [
       "           sex   diagnosis             loc stereo\n",
       "count       88          87              88     88\n",
       "unique       2           4               2      2\n",
       "top     Female  Meningioma  Supratentorial    SRT\n",
       "freq        45          42              69     65"
      ]
     },
     "execution_count": 8,
     "metadata": {},
     "output_type": "execute_result"
    }
   ],
   "source": [
    "BrainCancer.describe(include=\"category\")"
   ]
  },
  {
   "cell_type": "code",
   "execution_count": 9,
   "id": "e04abcd3",
   "metadata": {},
   "outputs": [
    {
     "name": "stdout",
     "output_type": "stream",
     "text": [
      "<class 'pandas.core.frame.DataFrame'>\n",
      "RangeIndex: 88 entries, 0 to 87\n",
      "Data columns (total 8 columns):\n",
      " #   Column     Non-Null Count  Dtype   \n",
      "---  ------     --------------  -----   \n",
      " 0   sex        88 non-null     category\n",
      " 1   diagnosis  87 non-null     category\n",
      " 2   loc        88 non-null     category\n",
      " 3   ki         88 non-null     int64   \n",
      " 4   gtv        88 non-null     float64 \n",
      " 5   stereo     88 non-null     category\n",
      " 6   status     88 non-null     int64   \n",
      " 7   time       88 non-null     float64 \n",
      "dtypes: category(4), float64(2), int64(2)\n",
      "memory usage: 3.8 KB\n"
     ]
    }
   ],
   "source": [
    "BrainCancer.info()"
   ]
  },
  {
   "cell_type": "markdown",
   "id": "3203d94e",
   "metadata": {},
   "source": [
    "**(a)**"
   ]
  },
  {
   "cell_type": "code",
   "execution_count": 10,
   "id": "2ff3cd27",
   "metadata": {},
   "outputs": [
    {
     "data": {
      "image/png": "[encoded data removed]",
      "text/plain": [
       "<Figure size 800x800 with 1 Axes>"
      ]
     },
     "metadata": {},
     "output_type": "display_data"
    }
   ],
   "source": [
    "fig, ax = plt.subplots(figsize=(8, 8))\n",
    "ax.set_ylim([0,1])\n",
    "km = KaplanMeierFitter()\n",
    "km_brain = km.fit(BrainCancer[\"time\"], BrainCancer[\"status\"])\n",
    "km_brain.plot(label=\"Kaplan Meier estimate\", ax=ax);"
   ]
  },
  {
   "cell_type": "markdown",
   "id": "066b8f21",
   "metadata": {},
   "source": [
    "**(b)** We'll use a modified version of the `boot_SE` function we used in chapter 5:"
   ]
  },
  {
   "cell_type": "code",
   "execution_count": 11,
   "id": "e73696b3",
   "metadata": {},
   "outputs": [],
   "source": [
    "def boot_SE(\n",
    "    func,\n",
    "    df: pd.DataFrame,\n",
    "    timepoints: np.ndarray = np.linspace(0, 100, 500),\n",
    "    n=None,\n",
    "    B=1000,\n",
    "    seed=0,\n",
    "):\n",
    "    \"\"\"\n",
    "    Calculates the bootstrap standard error for a function that returns\n",
    "    a lifelines fitter object.\n",
    "\n",
    "    Args:\n",
    "        func: A function that takes a DataFrame and indices and returns\n",
    "              a fitted lifelines fitter object.\n",
    "        df: The original DataFrame.\n",
    "        timpoints: an array of timepoints which we calculate the SE at.\n",
    "        n: The sample size for bootstrapping (defaults to D.shape[0]).\n",
    "        B: The number of bootstrap samples.\n",
    "        seed: Random seed for reproducibility.\n",
    "\n",
    "    Returns:\n",
    "        A pandas Series containing the standard error for the survival\n",
    "        probability at each timepoint in the timepoints array.\n",
    "    \"\"\"\n",
    "    rng = np.random.default_rng(seed)\n",
    "    n = n or df.shape[0]\n",
    "    fitters = []\n",
    "\n",
    "    for _ in range(B):\n",
    "        idx = rng.choice(df.index, n, replace=True)\n",
    "        fitter = func(df, idx)\n",
    "        fitters.append(fitter)\n",
    "\n",
    "    predictions_list = []\n",
    "\n",
    "    # Predict survival for each fitter at timepoints\n",
    "    for i, fitter in enumerate(fitters):\n",
    "        preds = fitter.predict(timepoints).rename(f\"prediction_{i}\")\n",
    "        predictions_list.append(preds)\n",
    "\n",
    "    predictions = pd.concat(predictions_list, axis=1)\n",
    "\n",
    "    # calculate standard error \n",
    "    # (both methods below are equivalent and calculate the population standard deviation)\n",
    "    \n",
    "    # first_ = predictions.sum(axis=1)\n",
    "    # second_ = (predictions**2).sum(axis=1)\n",
    "    # se = np.sqrt(second_ / B - (first_ / B) ** 2)\n",
    "    \n",
    "    se = predictions.std(axis=1, ddof=0)\n",
    "\n",
    "    return se"
   ]
  },
  {
   "cell_type": "markdown",
   "id": "b8bf2dee",
   "metadata": {},
   "source": [
    "Defining a `boot_fn` function that fits the Kaplan-Meier survival curve:"
   ]
  },
  {
   "cell_type": "code",
   "execution_count": 12,
   "id": "c87c631b",
   "metadata": {},
   "outputs": [],
   "source": [
    "def boot_fn(df: pd.DataFrame, idx: np.ndarray):\n",
    "    data = df.loc[idx]\n",
    "\n",
    "    km = KaplanMeierFitter()\n",
    "    km_brain = km.fit(data[\"time\"], data[\"status\"])\n",
    "    return km_brain"
   ]
  },
  {
   "cell_type": "code",
   "execution_count": 13,
   "id": "3aee9147",
   "metadata": {},
   "outputs": [],
   "source": [
    "timepoints = np.linspace(0, 85, 500)\n",
    "\n",
    "boot_std_error = boot_SE(\n",
    "    boot_fn, df=BrainCancer, timepoints=timepoints, n=88, B=200, seed=42\n",
    ")"
   ]
  },
  {
   "cell_type": "code",
   "execution_count": 14,
   "id": "d18e2495",
   "metadata": {},
   "outputs": [
    {
     "data": {
      "image/png": "[encoded data removed]",
      "text/plain": [
       "<Figure size 800x800 with 1 Axes>"
      ]
     },
     "metadata": {},
     "output_type": "display_data"
    }
   ],
   "source": [
    "km_brain = KaplanMeierFitter().fit(BrainCancer[\"time\"], BrainCancer[\"status\"])\n",
    "surv_curve = km_brain.survival_function_at_times(timepoints)\n",
    "pos_std = surv_curve + boot_std_error\n",
    "neg_std = surv_curve - boot_std_error\n",
    "\n",
    "fig, ax = plt.subplots(figsize=(8, 8))\n",
    "ax.plot(surv_curve, label=\"Kaplan Meier estimate\")\n",
    "ax.plot(pos_std, color=\"gray\", linestyle=\"--\", label=\"Bootstrap SE upper bound\")\n",
    "ax.plot(neg_std, color=\"gray\", linestyle=\"--\", label=\"Bootstrap SE lower bound\")\n",
    "ax.fill_between(surv_curve.index, neg_std, pos_std, color=\"gray\", alpha=0.2)\n",
    "ax.set_ylim([0,1])\n",
    "ax.set_xlabel(\"timeline\")\n",
    "ax.legend()\n",
    "plt.show()"
   ]
  },
  {
   "cell_type": "markdown",
   "id": "d6e80226",
   "metadata": {},
   "source": [
    "We can see that the bootstrap SE estimate band is quite a bit narrower than the one from the Kaplan-Meier fitter."
   ]
  },
  {
   "cell_type": "markdown",
   "id": "1e0b9aa6",
   "metadata": {},
   "source": [
    "**(c)** "
   ]
  },
  {
   "cell_type": "code",
   "execution_count": 15,
   "id": "44718b47",
   "metadata": {},
   "outputs": [
    {
     "data": {
      "text/html": [
       "<div>\n",
       "<style scoped>\n",
       "    .dataframe tbody tr th:only-of-type {\n",
       "        vertical-align: middle;\n",
       "    }\n",
       "\n",
       "    .dataframe tbody tr th {\n",
       "        vertical-align: top;\n",
       "    }\n",
       "\n",
       "    .dataframe thead th {\n",
       "        text-align: right;\n",
       "    }\n",
       "</style>\n",
       "<table border=\"1\" class=\"dataframe\">\n",
       "  <thead>\n",
       "    <tr style=\"text-align: right;\">\n",
       "      <th></th>\n",
       "      <th>coef</th>\n",
       "      <th>se(coef)</th>\n",
       "      <th>p</th>\n",
       "    </tr>\n",
       "    <tr>\n",
       "      <th>covariate</th>\n",
       "      <th></th>\n",
       "      <th></th>\n",
       "      <th></th>\n",
       "    </tr>\n",
       "  </thead>\n",
       "  <tbody>\n",
       "    <tr>\n",
       "      <th>sex[Male]</th>\n",
       "      <td>0.183748</td>\n",
       "      <td>0.360358</td>\n",
       "      <td>0.610119</td>\n",
       "    </tr>\n",
       "    <tr>\n",
       "      <th>diagnosis[LG glioma]</th>\n",
       "      <td>-1.239530</td>\n",
       "      <td>0.579555</td>\n",
       "      <td>0.032455</td>\n",
       "    </tr>\n",
       "    <tr>\n",
       "      <th>diagnosis[Meningioma]</th>\n",
       "      <td>-2.154566</td>\n",
       "      <td>0.450524</td>\n",
       "      <td>0.000002</td>\n",
       "    </tr>\n",
       "    <tr>\n",
       "      <th>diagnosis[Other]</th>\n",
       "      <td>-1.268870</td>\n",
       "      <td>0.617672</td>\n",
       "      <td>0.039949</td>\n",
       "    </tr>\n",
       "    <tr>\n",
       "      <th>loc[Supratentorial]</th>\n",
       "      <td>0.441195</td>\n",
       "      <td>0.703669</td>\n",
       "      <td>0.530665</td>\n",
       "    </tr>\n",
       "    <tr>\n",
       "      <th>ki</th>\n",
       "      <td>-0.054955</td>\n",
       "      <td>0.018314</td>\n",
       "      <td>0.002693</td>\n",
       "    </tr>\n",
       "    <tr>\n",
       "      <th>gtv</th>\n",
       "      <td>0.034293</td>\n",
       "      <td>0.022333</td>\n",
       "      <td>0.124661</td>\n",
       "    </tr>\n",
       "    <tr>\n",
       "      <th>stereo[SRT]</th>\n",
       "      <td>0.177778</td>\n",
       "      <td>0.601578</td>\n",
       "      <td>0.767597</td>\n",
       "    </tr>\n",
       "  </tbody>\n",
       "</table>\n",
       "</div>"
      ],
      "text/plain": [
       "                           coef  se(coef)         p\n",
       "covariate                                          \n",
       "sex[Male]              0.183748  0.360358  0.610119\n",
       "diagnosis[LG glioma]  -1.239530  0.579555  0.032455\n",
       "diagnosis[Meningioma] -2.154566  0.450524  0.000002\n",
       "diagnosis[Other]      -1.268870  0.617672  0.039949\n",
       "loc[Supratentorial]    0.441195  0.703669  0.530665\n",
       "ki                    -0.054955  0.018314  0.002693\n",
       "gtv                    0.034293  0.022333  0.124661\n",
       "stereo[SRT]            0.177778  0.601578  0.767597"
      ]
     },
     "execution_count": 15,
     "metadata": {},
     "output_type": "execute_result"
    }
   ],
   "source": [
    "cleaned = BrainCancer.dropna()\n",
    "all_MS = MS(cleaned.columns, intercept=False)\n",
    "all_df = all_MS.fit_transform(cleaned)\n",
    "fit_all = CoxPHFitter().fit(all_df,\n",
    "                      'time',\n",
    "                      'status')\n",
    "fit_all.summary[['coef', 'se(coef)', 'p']]"
   ]
  },
  {
   "cell_type": "markdown",
   "id": "dee555ab",
   "metadata": {},
   "source": [
    "We can see statistically significant p-values for the coefficients of `ki`, `LG glioma`, `Meningioma`, `other`."
   ]
  },
  {
   "cell_type": "markdown",
   "id": "93ac4f62",
   "metadata": {},
   "source": [
    "\n",
    "**(d)** First we'll group the single `ki == 40` with the `ki == 60` observations."
   ]
  },
  {
   "cell_type": "code",
   "execution_count": 16,
   "id": "5defe368",
   "metadata": {},
   "outputs": [],
   "source": [
    "cleaned.loc[cleaned['ki'] == 40, 'ki'] = 60"
   ]
  },
  {
   "cell_type": "markdown",
   "id": "ac64b03b",
   "metadata": {},
   "source": [
    "Now we'll adjust for other predictors, using the mode for categorical variables and the mean for numerical ones."
   ]
  },
  {
   "cell_type": "code",
   "execution_count": 17,
   "id": "9de43b9e",
   "metadata": {},
   "outputs": [
    {
     "data": {
      "text/html": [
       "<div>\n",
       "<style scoped>\n",
       "    .dataframe tbody tr th:only-of-type {\n",
       "        vertical-align: middle;\n",
       "    }\n",
       "\n",
       "    .dataframe tbody tr th {\n",
       "        vertical-align: top;\n",
       "    }\n",
       "\n",
       "    .dataframe thead th {\n",
       "        text-align: right;\n",
       "    }\n",
       "</style>\n",
       "<table border=\"1\" class=\"dataframe\">\n",
       "  <thead>\n",
       "    <tr style=\"text-align: right;\">\n",
       "      <th></th>\n",
       "      <th>sex</th>\n",
       "      <th>diagnosis</th>\n",
       "      <th>loc</th>\n",
       "      <th>ki</th>\n",
       "      <th>gtv</th>\n",
       "      <th>stereo</th>\n",
       "      <th>status</th>\n",
       "      <th>time</th>\n",
       "    </tr>\n",
       "  </thead>\n",
       "  <tbody>\n",
       "    <tr>\n",
       "      <th>0</th>\n",
       "      <td>Female</td>\n",
       "      <td>Meningioma</td>\n",
       "      <td>Supratentorial</td>\n",
       "      <td>100</td>\n",
       "      <td>8.687011</td>\n",
       "      <td>SRT</td>\n",
       "      <td>0.402299</td>\n",
       "      <td>27.188621</td>\n",
       "    </tr>\n",
       "    <tr>\n",
       "      <th>0</th>\n",
       "      <td>Female</td>\n",
       "      <td>Meningioma</td>\n",
       "      <td>Supratentorial</td>\n",
       "      <td>90</td>\n",
       "      <td>8.687011</td>\n",
       "      <td>SRT</td>\n",
       "      <td>0.402299</td>\n",
       "      <td>27.188621</td>\n",
       "    </tr>\n",
       "    <tr>\n",
       "      <th>0</th>\n",
       "      <td>Female</td>\n",
       "      <td>Meningioma</td>\n",
       "      <td>Supratentorial</td>\n",
       "      <td>80</td>\n",
       "      <td>8.687011</td>\n",
       "      <td>SRT</td>\n",
       "      <td>0.402299</td>\n",
       "      <td>27.188621</td>\n",
       "    </tr>\n",
       "    <tr>\n",
       "      <th>0</th>\n",
       "      <td>Female</td>\n",
       "      <td>Meningioma</td>\n",
       "      <td>Supratentorial</td>\n",
       "      <td>70</td>\n",
       "      <td>8.687011</td>\n",
       "      <td>SRT</td>\n",
       "      <td>0.402299</td>\n",
       "      <td>27.188621</td>\n",
       "    </tr>\n",
       "    <tr>\n",
       "      <th>0</th>\n",
       "      <td>Female</td>\n",
       "      <td>Meningioma</td>\n",
       "      <td>Supratentorial</td>\n",
       "      <td>60</td>\n",
       "      <td>8.687011</td>\n",
       "      <td>SRT</td>\n",
       "      <td>0.402299</td>\n",
       "      <td>27.188621</td>\n",
       "    </tr>\n",
       "  </tbody>\n",
       "</table>\n",
       "</div>"
      ],
      "text/plain": [
       "      sex   diagnosis             loc   ki       gtv stereo    status  \\\n",
       "0  Female  Meningioma  Supratentorial  100  8.687011    SRT  0.402299   \n",
       "0  Female  Meningioma  Supratentorial   90  8.687011    SRT  0.402299   \n",
       "0  Female  Meningioma  Supratentorial   80  8.687011    SRT  0.402299   \n",
       "0  Female  Meningioma  Supratentorial   70  8.687011    SRT  0.402299   \n",
       "0  Female  Meningioma  Supratentorial   60  8.687011    SRT  0.402299   \n",
       "\n",
       "        time  \n",
       "0  27.188621  \n",
       "0  27.188621  \n",
       "0  27.188621  \n",
       "0  27.188621  \n",
       "0  27.188621  "
      ]
     },
     "execution_count": 17,
     "metadata": {},
     "output_type": "execute_result"
    }
   ],
   "source": [
    "levels = sorted(cleaned['ki'].unique(), reverse=True)\n",
    "def representative(series):\n",
    "    if hasattr(series.dtype, 'categories'):\n",
    "        return pd.Series.mode(series)\n",
    "    else:\n",
    "        return series.mean()\n",
    "modal_data = cleaned.apply(representative, axis=0)\n",
    "\n",
    "modal_df = pd.DataFrame(\n",
    "              [modal_data.iloc[0] for _ in range(len(levels))])\n",
    "modal_df['ki'] = levels\n",
    "modal_df\n"
   ]
  },
  {
   "cell_type": "code",
   "execution_count": 18,
   "id": "000a6249",
   "metadata": {},
   "outputs": [
    {
     "data": {
      "text/html": [
       "<div>\n",
       "<style scoped>\n",
       "    .dataframe tbody tr th:only-of-type {\n",
       "        vertical-align: middle;\n",
       "    }\n",
       "\n",
       "    .dataframe tbody tr th {\n",
       "        vertical-align: top;\n",
       "    }\n",
       "\n",
       "    .dataframe thead th {\n",
       "        text-align: right;\n",
       "    }\n",
       "</style>\n",
       "<table border=\"1\" class=\"dataframe\">\n",
       "  <thead>\n",
       "    <tr style=\"text-align: right;\">\n",
       "      <th></th>\n",
       "      <th>sex[Male]</th>\n",
       "      <th>diagnosis[LG glioma]</th>\n",
       "      <th>diagnosis[Meningioma]</th>\n",
       "      <th>diagnosis[Other]</th>\n",
       "      <th>loc[Supratentorial]</th>\n",
       "      <th>ki</th>\n",
       "      <th>gtv</th>\n",
       "      <th>stereo[SRT]</th>\n",
       "      <th>status</th>\n",
       "      <th>time</th>\n",
       "    </tr>\n",
       "  </thead>\n",
       "  <tbody>\n",
       "    <tr>\n",
       "      <th>100</th>\n",
       "      <td>0.0</td>\n",
       "      <td>0.0</td>\n",
       "      <td>1.0</td>\n",
       "      <td>0.0</td>\n",
       "      <td>1.0</td>\n",
       "      <td>100</td>\n",
       "      <td>8.687011</td>\n",
       "      <td>1.0</td>\n",
       "      <td>0.402299</td>\n",
       "      <td>27.188621</td>\n",
       "    </tr>\n",
       "    <tr>\n",
       "      <th>90</th>\n",
       "      <td>0.0</td>\n",
       "      <td>0.0</td>\n",
       "      <td>1.0</td>\n",
       "      <td>0.0</td>\n",
       "      <td>1.0</td>\n",
       "      <td>90</td>\n",
       "      <td>8.687011</td>\n",
       "      <td>1.0</td>\n",
       "      <td>0.402299</td>\n",
       "      <td>27.188621</td>\n",
       "    </tr>\n",
       "    <tr>\n",
       "      <th>80</th>\n",
       "      <td>0.0</td>\n",
       "      <td>0.0</td>\n",
       "      <td>1.0</td>\n",
       "      <td>0.0</td>\n",
       "      <td>1.0</td>\n",
       "      <td>80</td>\n",
       "      <td>8.687011</td>\n",
       "      <td>1.0</td>\n",
       "      <td>0.402299</td>\n",
       "      <td>27.188621</td>\n",
       "    </tr>\n",
       "    <tr>\n",
       "      <th>70</th>\n",
       "      <td>0.0</td>\n",
       "      <td>0.0</td>\n",
       "      <td>1.0</td>\n",
       "      <td>0.0</td>\n",
       "      <td>1.0</td>\n",
       "      <td>70</td>\n",
       "      <td>8.687011</td>\n",
       "      <td>1.0</td>\n",
       "      <td>0.402299</td>\n",
       "      <td>27.188621</td>\n",
       "    </tr>\n",
       "    <tr>\n",
       "      <th>60</th>\n",
       "      <td>0.0</td>\n",
       "      <td>0.0</td>\n",
       "      <td>1.0</td>\n",
       "      <td>0.0</td>\n",
       "      <td>1.0</td>\n",
       "      <td>60</td>\n",
       "      <td>8.687011</td>\n",
       "      <td>1.0</td>\n",
       "      <td>0.402299</td>\n",
       "      <td>27.188621</td>\n",
       "    </tr>\n",
       "  </tbody>\n",
       "</table>\n",
       "</div>"
      ],
      "text/plain": [
       "     sex[Male]  diagnosis[LG glioma]  diagnosis[Meningioma]  diagnosis[Other]  \\\n",
       "100        0.0                   0.0                    1.0               0.0   \n",
       "90         0.0                   0.0                    1.0               0.0   \n",
       "80         0.0                   0.0                    1.0               0.0   \n",
       "70         0.0                   0.0                    1.0               0.0   \n",
       "60         0.0                   0.0                    1.0               0.0   \n",
       "\n",
       "     loc[Supratentorial]   ki       gtv  stereo[SRT]    status       time  \n",
       "100                  1.0  100  8.687011          1.0  0.402299  27.188621  \n",
       "90                   1.0   90  8.687011          1.0  0.402299  27.188621  \n",
       "80                   1.0   80  8.687011          1.0  0.402299  27.188621  \n",
       "70                   1.0   70  8.687011          1.0  0.402299  27.188621  \n",
       "60                   1.0   60  8.687011          1.0  0.402299  27.188621  "
      ]
     },
     "execution_count": 18,
     "metadata": {},
     "output_type": "execute_result"
    }
   ],
   "source": [
    "modal_X = all_MS.transform(modal_df)\n",
    "modal_X.index = levels\n",
    "modal_X"
   ]
  },
  {
   "cell_type": "code",
   "execution_count": 19,
   "id": "43c9fefb",
   "metadata": {},
   "outputs": [
    {
     "data": {
      "text/html": [
       "<div>\n",
       "<style scoped>\n",
       "    .dataframe tbody tr th:only-of-type {\n",
       "        vertical-align: middle;\n",
       "    }\n",
       "\n",
       "    .dataframe tbody tr th {\n",
       "        vertical-align: top;\n",
       "    }\n",
       "\n",
       "    .dataframe thead th {\n",
       "        text-align: right;\n",
       "    }\n",
       "</style>\n",
       "<table border=\"1\" class=\"dataframe\">\n",
       "  <thead>\n",
       "    <tr style=\"text-align: right;\">\n",
       "      <th></th>\n",
       "      <th>100</th>\n",
       "      <th>90</th>\n",
       "      <th>80</th>\n",
       "      <th>70</th>\n",
       "      <th>60</th>\n",
       "    </tr>\n",
       "  </thead>\n",
       "  <tbody>\n",
       "    <tr>\n",
       "      <th>0.07</th>\n",
       "      <td>0.999280</td>\n",
       "      <td>0.998753</td>\n",
       "      <td>0.997840</td>\n",
       "      <td>0.996261</td>\n",
       "      <td>0.993532</td>\n",
       "    </tr>\n",
       "    <tr>\n",
       "      <th>1.18</th>\n",
       "      <td>0.999280</td>\n",
       "      <td>0.998753</td>\n",
       "      <td>0.997840</td>\n",
       "      <td>0.996261</td>\n",
       "      <td>0.993532</td>\n",
       "    </tr>\n",
       "    <tr>\n",
       "      <th>1.41</th>\n",
       "      <td>0.998484</td>\n",
       "      <td>0.997374</td>\n",
       "      <td>0.995455</td>\n",
       "      <td>0.992140</td>\n",
       "      <td>0.986421</td>\n",
       "    </tr>\n",
       "    <tr>\n",
       "      <th>1.54</th>\n",
       "      <td>0.998484</td>\n",
       "      <td>0.997374</td>\n",
       "      <td>0.995455</td>\n",
       "      <td>0.992140</td>\n",
       "      <td>0.986421</td>\n",
       "    </tr>\n",
       "    <tr>\n",
       "      <th>2.03</th>\n",
       "      <td>0.998484</td>\n",
       "      <td>0.997374</td>\n",
       "      <td>0.995455</td>\n",
       "      <td>0.992140</td>\n",
       "      <td>0.986421</td>\n",
       "    </tr>\n",
       "    <tr>\n",
       "      <th>...</th>\n",
       "      <td>...</td>\n",
       "      <td>...</td>\n",
       "      <td>...</td>\n",
       "      <td>...</td>\n",
       "      <td>...</td>\n",
       "    </tr>\n",
       "    <tr>\n",
       "      <th>65.02</th>\n",
       "      <td>0.877517</td>\n",
       "      <td>0.797428</td>\n",
       "      <td>0.675589</td>\n",
       "      <td>0.506907</td>\n",
       "      <td>0.308173</td>\n",
       "    </tr>\n",
       "    <tr>\n",
       "      <th>67.38</th>\n",
       "      <td>0.877517</td>\n",
       "      <td>0.797428</td>\n",
       "      <td>0.675589</td>\n",
       "      <td>0.506907</td>\n",
       "      <td>0.308173</td>\n",
       "    </tr>\n",
       "    <tr>\n",
       "      <th>73.74</th>\n",
       "      <td>0.877517</td>\n",
       "      <td>0.797428</td>\n",
       "      <td>0.675589</td>\n",
       "      <td>0.506907</td>\n",
       "      <td>0.308173</td>\n",
       "    </tr>\n",
       "    <tr>\n",
       "      <th>78.75</th>\n",
       "      <td>0.877517</td>\n",
       "      <td>0.797428</td>\n",
       "      <td>0.675589</td>\n",
       "      <td>0.506907</td>\n",
       "      <td>0.308173</td>\n",
       "    </tr>\n",
       "    <tr>\n",
       "      <th>82.56</th>\n",
       "      <td>0.877517</td>\n",
       "      <td>0.797428</td>\n",
       "      <td>0.675589</td>\n",
       "      <td>0.506907</td>\n",
       "      <td>0.308173</td>\n",
       "    </tr>\n",
       "  </tbody>\n",
       "</table>\n",
       "<p>85 rows × 5 columns</p>\n",
       "</div>"
      ],
      "text/plain": [
       "            100       90        80        70        60 \n",
       "0.07   0.999280  0.998753  0.997840  0.996261  0.993532\n",
       "1.18   0.999280  0.998753  0.997840  0.996261  0.993532\n",
       "1.41   0.998484  0.997374  0.995455  0.992140  0.986421\n",
       "1.54   0.998484  0.997374  0.995455  0.992140  0.986421\n",
       "2.03   0.998484  0.997374  0.995455  0.992140  0.986421\n",
       "...         ...       ...       ...       ...       ...\n",
       "65.02  0.877517  0.797428  0.675589  0.506907  0.308173\n",
       "67.38  0.877517  0.797428  0.675589  0.506907  0.308173\n",
       "73.74  0.877517  0.797428  0.675589  0.506907  0.308173\n",
       "78.75  0.877517  0.797428  0.675589  0.506907  0.308173\n",
       "82.56  0.877517  0.797428  0.675589  0.506907  0.308173\n",
       "\n",
       "[85 rows x 5 columns]"
      ]
     },
     "execution_count": 19,
     "metadata": {},
     "output_type": "execute_result"
    }
   ],
   "source": [
    "predicted_survival = fit_all.predict_survival_function(modal_X)\n",
    "predicted_survival\n"
   ]
  },
  {
   "cell_type": "code",
   "execution_count": 20,
   "id": "70c43117",
   "metadata": {},
   "outputs": [
    {
     "data": {
      "image/png": "[encoded data removed]",
      "text/plain": [
       "<Figure size 800x800 with 1 Axes>"
      ]
     },
     "metadata": {},
     "output_type": "display_data"
    }
   ],
   "source": [
    "fig, ax = plt.subplots(figsize=(8, 8))\n",
    "predicted_survival.plot(ax=ax);\n"
   ]
  },
  {
   "cell_type": "markdown",
   "id": "35794183",
   "metadata": {},
   "source": [
    "We can see that the plot matches what we understand from the coefficients of the fitted model, that a higher `ki` value is associated with lower risk, i.e. longer survival times."
   ]
  },
  {
   "cell_type": "markdown",
   "id": "6b03e0f2",
   "metadata": {},
   "source": [
    "### **Q11**\n",
    "\n",
    "| Observation (Y) | Censoring Indicator ($\\delta$) | Covariate (X) |\n",
    "|-----------------|------------------------------|---------------|\n",
    "| 26.5            | 1                            | 0.1           |\n",
    "| 37.2            | 1                            | 11            |\n",
    "| 57.3            | 1                            | -0.3          |\n",
    "| 90.8            | 0                            | 2.8           |\n",
    "| 20.2            | 0                            | 1.8           |\n",
    "| 89.8            | 0                            | 0.4           |\n",
    "\n",
    "*TABLE 11.4.*"
   ]
  },
  {
   "cell_type": "code",
   "execution_count": 21,
   "id": "fbe7d468",
   "metadata": {
    "vscode": {
     "languageId": "javascript"
    }
   },
   "outputs": [
    {
     "data": {
      "text/html": [
       "<div>\n",
       "<style scoped>\n",
       "    .dataframe tbody tr th:only-of-type {\n",
       "        vertical-align: middle;\n",
       "    }\n",
       "\n",
       "    .dataframe tbody tr th {\n",
       "        vertical-align: top;\n",
       "    }\n",
       "\n",
       "    .dataframe thead th {\n",
       "        text-align: right;\n",
       "    }\n",
       "</style>\n",
       "<table border=\"1\" class=\"dataframe\">\n",
       "  <thead>\n",
       "    <tr style=\"text-align: right;\">\n",
       "      <th></th>\n",
       "      <th>y</th>\n",
       "      <th>delta</th>\n",
       "      <th>x</th>\n",
       "    </tr>\n",
       "  </thead>\n",
       "  <tbody>\n",
       "    <tr>\n",
       "      <th>0</th>\n",
       "      <td>26.5</td>\n",
       "      <td>1</td>\n",
       "      <td>0.1</td>\n",
       "    </tr>\n",
       "    <tr>\n",
       "      <th>1</th>\n",
       "      <td>37.2</td>\n",
       "      <td>1</td>\n",
       "      <td>11.0</td>\n",
       "    </tr>\n",
       "    <tr>\n",
       "      <th>2</th>\n",
       "      <td>57.3</td>\n",
       "      <td>1</td>\n",
       "      <td>-0.3</td>\n",
       "    </tr>\n",
       "    <tr>\n",
       "      <th>3</th>\n",
       "      <td>90.8</td>\n",
       "      <td>0</td>\n",
       "      <td>2.8</td>\n",
       "    </tr>\n",
       "    <tr>\n",
       "      <th>4</th>\n",
       "      <td>20.2</td>\n",
       "      <td>0</td>\n",
       "      <td>1.8</td>\n",
       "    </tr>\n",
       "    <tr>\n",
       "      <th>5</th>\n",
       "      <td>89.8</td>\n",
       "      <td>0</td>\n",
       "      <td>0.4</td>\n",
       "    </tr>\n",
       "  </tbody>\n",
       "</table>\n",
       "</div>"
      ],
      "text/plain": [
       "      y  delta     x\n",
       "0  26.5      1   0.1\n",
       "1  37.2      1  11.0\n",
       "2  57.3      1  -0.3\n",
       "3  90.8      0   2.8\n",
       "4  20.2      0   1.8\n",
       "5  89.8      0   0.4"
      ]
     },
     "execution_count": 21,
     "metadata": {},
     "output_type": "execute_result"
    }
   ],
   "source": [
    "data = {\n",
    "    'y': [26.5, 37.2, 57.3, 90.8, 20.2, 89.8],\n",
    "    'delta': [1, 1, 1, 0, 0, 0],\n",
    "    'x': [0.1, 11, -0.3, 2.8, 1.8, 0.4]\n",
    "}\n",
    "df = pd.DataFrame(data)\n",
    "df"
   ]
  },
  {
   "cell_type": "markdown",
   "id": "004dfbc8",
   "metadata": {},
   "source": [
    "**(a)** Splitting the data into two groups:"
   ]
  },
  {
   "cell_type": "code",
   "execution_count": 22,
   "id": "185f9cfa",
   "metadata": {},
   "outputs": [
    {
     "data": {
      "text/html": [
       "<div>\n",
       "<style scoped>\n",
       "    .dataframe tbody tr th:only-of-type {\n",
       "        vertical-align: middle;\n",
       "    }\n",
       "\n",
       "    .dataframe tbody tr th {\n",
       "        vertical-align: top;\n",
       "    }\n",
       "\n",
       "    .dataframe thead th {\n",
       "        text-align: right;\n",
       "    }\n",
       "</style>\n",
       "<table border=\"1\" class=\"dataframe\">\n",
       "  <thead>\n",
       "    <tr style=\"text-align: right;\">\n",
       "      <th></th>\n",
       "      <th>y</th>\n",
       "      <th>delta</th>\n",
       "      <th>x</th>\n",
       "      <th>group</th>\n",
       "    </tr>\n",
       "  </thead>\n",
       "  <tbody>\n",
       "    <tr>\n",
       "      <th>0</th>\n",
       "      <td>26.5</td>\n",
       "      <td>1</td>\n",
       "      <td>0.1</td>\n",
       "      <td>Group1</td>\n",
       "    </tr>\n",
       "    <tr>\n",
       "      <th>1</th>\n",
       "      <td>37.2</td>\n",
       "      <td>1</td>\n",
       "      <td>11.0</td>\n",
       "      <td>NaN</td>\n",
       "    </tr>\n",
       "    <tr>\n",
       "      <th>2</th>\n",
       "      <td>57.3</td>\n",
       "      <td>1</td>\n",
       "      <td>-0.3</td>\n",
       "      <td>Group1</td>\n",
       "    </tr>\n",
       "    <tr>\n",
       "      <th>3</th>\n",
       "      <td>90.8</td>\n",
       "      <td>0</td>\n",
       "      <td>2.8</td>\n",
       "      <td>NaN</td>\n",
       "    </tr>\n",
       "    <tr>\n",
       "      <th>4</th>\n",
       "      <td>20.2</td>\n",
       "      <td>0</td>\n",
       "      <td>1.8</td>\n",
       "      <td>Group1</td>\n",
       "    </tr>\n",
       "    <tr>\n",
       "      <th>5</th>\n",
       "      <td>89.8</td>\n",
       "      <td>0</td>\n",
       "      <td>0.4</td>\n",
       "      <td>Group1</td>\n",
       "    </tr>\n",
       "  </tbody>\n",
       "</table>\n",
       "</div>"
      ],
      "text/plain": [
       "      y  delta     x   group\n",
       "0  26.5      1   0.1  Group1\n",
       "1  37.2      1  11.0     NaN\n",
       "2  57.3      1  -0.3  Group1\n",
       "3  90.8      0   2.8     NaN\n",
       "4  20.2      0   1.8  Group1\n",
       "5  89.8      0   0.4  Group1"
      ]
     },
     "execution_count": 22,
     "metadata": {},
     "output_type": "execute_result"
    }
   ],
   "source": [
    "df.loc[df['x'] < 2, 'group'] = \"Group1\"\n",
    "df"
   ]
  },
  {
   "cell_type": "code",
   "execution_count": 23,
   "id": "877513fc",
   "metadata": {},
   "outputs": [
    {
     "data": {
      "text/html": [
       "<div>\n",
       "<style scoped>\n",
       "    .dataframe tbody tr th:only-of-type {\n",
       "        vertical-align: middle;\n",
       "    }\n",
       "\n",
       "    .dataframe tbody tr th {\n",
       "        vertical-align: top;\n",
       "    }\n",
       "\n",
       "    .dataframe thead th {\n",
       "        text-align: right;\n",
       "    }\n",
       "</style>\n",
       "<table border=\"1\" class=\"dataframe\">\n",
       "  <thead>\n",
       "    <tr style=\"text-align: right;\">\n",
       "      <th></th>\n",
       "      <th>y</th>\n",
       "      <th>delta</th>\n",
       "      <th>x</th>\n",
       "      <th>group</th>\n",
       "    </tr>\n",
       "  </thead>\n",
       "  <tbody>\n",
       "    <tr>\n",
       "      <th>0</th>\n",
       "      <td>26.5</td>\n",
       "      <td>1</td>\n",
       "      <td>0.1</td>\n",
       "      <td>Group1</td>\n",
       "    </tr>\n",
       "    <tr>\n",
       "      <th>1</th>\n",
       "      <td>37.2</td>\n",
       "      <td>1</td>\n",
       "      <td>11.0</td>\n",
       "      <td>Group2</td>\n",
       "    </tr>\n",
       "    <tr>\n",
       "      <th>2</th>\n",
       "      <td>57.3</td>\n",
       "      <td>1</td>\n",
       "      <td>-0.3</td>\n",
       "      <td>Group1</td>\n",
       "    </tr>\n",
       "    <tr>\n",
       "      <th>3</th>\n",
       "      <td>90.8</td>\n",
       "      <td>0</td>\n",
       "      <td>2.8</td>\n",
       "      <td>Group2</td>\n",
       "    </tr>\n",
       "    <tr>\n",
       "      <th>4</th>\n",
       "      <td>20.2</td>\n",
       "      <td>0</td>\n",
       "      <td>1.8</td>\n",
       "      <td>Group1</td>\n",
       "    </tr>\n",
       "    <tr>\n",
       "      <th>5</th>\n",
       "      <td>89.8</td>\n",
       "      <td>0</td>\n",
       "      <td>0.4</td>\n",
       "      <td>Group1</td>\n",
       "    </tr>\n",
       "  </tbody>\n",
       "</table>\n",
       "</div>"
      ],
      "text/plain": [
       "      y  delta     x   group\n",
       "0  26.5      1   0.1  Group1\n",
       "1  37.2      1  11.0  Group2\n",
       "2  57.3      1  -0.3  Group1\n",
       "3  90.8      0   2.8  Group2\n",
       "4  20.2      0   1.8  Group1\n",
       "5  89.8      0   0.4  Group1"
      ]
     },
     "execution_count": 23,
     "metadata": {},
     "output_type": "execute_result"
    }
   ],
   "source": [
    "df.loc[df['x'] >= 2, 'group'] = \"Group2\"\n",
    "df"
   ]
  },
  {
   "cell_type": "code",
   "execution_count": 24,
   "id": "5aef0d55",
   "metadata": {},
   "outputs": [],
   "source": [
    "df['group'] = df['group'].astype('category')"
   ]
  },
  {
   "cell_type": "code",
   "execution_count": 25,
   "id": "cf909fab",
   "metadata": {},
   "outputs": [
    {
     "data": {
      "image/png": "[encoded data removed]",
      "text/plain": [
       "<Figure size 800x800 with 1 Axes>"
      ]
     },
     "metadata": {},
     "output_type": "display_data"
    }
   ],
   "source": [
    "fig, ax = plt.subplots(figsize=(8, 8))\n",
    "for group_name, group in df.groupby('group', observed=True):\n",
    "    km = KaplanMeierFitter().fit(group['y'], group['delta'])\n",
    "    km.plot(label=f\"{group_name}\", ax=ax)"
   ]
  },
  {
   "cell_type": "markdown",
   "id": "026f7d43",
   "metadata": {},
   "source": [
    "Looking at the fitted Kaplan-Meier curves, I can't see a big difference between the two groups' survival curves."
   ]
  },
  {
   "cell_type": "markdown",
   "id": "b99751b4",
   "metadata": {},
   "source": [
    "**(b)**\n"
   ]
  },
  {
   "cell_type": "code",
   "execution_count": 26,
   "id": "f63cb9cd",
   "metadata": {},
   "outputs": [
    {
     "data": {
      "text/html": [
       "<div>\n",
       "<style scoped>\n",
       "    .dataframe tbody tr th:only-of-type {\n",
       "        vertical-align: middle;\n",
       "    }\n",
       "\n",
       "    .dataframe tbody tr th {\n",
       "        vertical-align: top;\n",
       "    }\n",
       "\n",
       "    .dataframe thead th {\n",
       "        text-align: right;\n",
       "    }\n",
       "</style>\n",
       "<table border=\"1\" class=\"dataframe\">\n",
       "  <thead>\n",
       "    <tr style=\"text-align: right;\">\n",
       "      <th></th>\n",
       "      <th>y</th>\n",
       "      <th>delta</th>\n",
       "      <th>group[Group2]</th>\n",
       "    </tr>\n",
       "  </thead>\n",
       "  <tbody>\n",
       "    <tr>\n",
       "      <th>0</th>\n",
       "      <td>26.5</td>\n",
       "      <td>1</td>\n",
       "      <td>0.0</td>\n",
       "    </tr>\n",
       "    <tr>\n",
       "      <th>1</th>\n",
       "      <td>37.2</td>\n",
       "      <td>1</td>\n",
       "      <td>1.0</td>\n",
       "    </tr>\n",
       "    <tr>\n",
       "      <th>2</th>\n",
       "      <td>57.3</td>\n",
       "      <td>1</td>\n",
       "      <td>0.0</td>\n",
       "    </tr>\n",
       "    <tr>\n",
       "      <th>3</th>\n",
       "      <td>90.8</td>\n",
       "      <td>0</td>\n",
       "      <td>1.0</td>\n",
       "    </tr>\n",
       "    <tr>\n",
       "      <th>4</th>\n",
       "      <td>20.2</td>\n",
       "      <td>0</td>\n",
       "      <td>0.0</td>\n",
       "    </tr>\n",
       "    <tr>\n",
       "      <th>5</th>\n",
       "      <td>89.8</td>\n",
       "      <td>0</td>\n",
       "      <td>0.0</td>\n",
       "    </tr>\n",
       "  </tbody>\n",
       "</table>\n",
       "</div>"
      ],
      "text/plain": [
       "      y  delta  group[Group2]\n",
       "0  26.5      1            0.0\n",
       "1  37.2      1            1.0\n",
       "2  57.3      1            0.0\n",
       "3  90.8      0            1.0\n",
       "4  20.2      0            0.0\n",
       "5  89.8      0            0.0"
      ]
     },
     "execution_count": 26,
     "metadata": {},
     "output_type": "execute_result"
    }
   ],
   "source": [
    "cols = ['y', 'delta', 'group']\n",
    "design = MS(cols, intercept=False)\n",
    "group_df = design.fit_transform(df)\n",
    "group_df"
   ]
  },
  {
   "cell_type": "code",
   "execution_count": 27,
   "id": "83c21fcb",
   "metadata": {},
   "outputs": [
    {
     "data": {
      "text/html": [
       "<div>\n",
       "<style scoped>\n",
       "    .dataframe tbody tr th:only-of-type {\n",
       "        vertical-align: middle;\n",
       "    }\n",
       "\n",
       "    .dataframe tbody tr th {\n",
       "        vertical-align: top;\n",
       "    }\n",
       "\n",
       "    .dataframe thead th {\n",
       "        text-align: right;\n",
       "    }\n",
       "</style>\n",
       "<table border=\"1\" class=\"dataframe\">\n",
       "  <thead>\n",
       "    <tr style=\"text-align: right;\">\n",
       "      <th></th>\n",
       "      <th>coef</th>\n",
       "      <th>se(coef)</th>\n",
       "      <th>p</th>\n",
       "    </tr>\n",
       "    <tr>\n",
       "      <th>covariate</th>\n",
       "      <th></th>\n",
       "      <th></th>\n",
       "      <th></th>\n",
       "    </tr>\n",
       "  </thead>\n",
       "  <tbody>\n",
       "    <tr>\n",
       "      <th>group[Group2]</th>\n",
       "      <td>-0.340143</td>\n",
       "      <td>1.235876</td>\n",
       "      <td>0.783144</td>\n",
       "    </tr>\n",
       "  </tbody>\n",
       "</table>\n",
       "</div>"
      ],
      "text/plain": [
       "                   coef  se(coef)         p\n",
       "covariate                                  \n",
       "group[Group2] -0.340143  1.235876  0.783144"
      ]
     },
     "execution_count": 27,
     "metadata": {},
     "output_type": "execute_result"
    }
   ],
   "source": [
    "\n",
    "cox_fit = CoxPHFitter().fit(group_df,\n",
    "                            'y',\n",
    "                            'delta')\n",
    "cox_fit.summary[['coef', 'se(coef)', 'p']]\n"
   ]
  },
  {
   "cell_type": "code",
   "execution_count": 28,
   "id": "29ccaa22",
   "metadata": {},
   "outputs": [
    {
     "data": {
      "text/plain": [
       "0.7116685468836035"
      ]
     },
     "execution_count": 28,
     "metadata": {},
     "output_type": "execute_result"
    }
   ],
   "source": [
    "np.e**-0.340143"
   ]
  },
  {
   "cell_type": "markdown",
   "id": "b17a0151",
   "metadata": {},
   "source": [
    "The estimated coefficient is $-0.340143$. `Group1` is encoded as the baseline here, so we can interpret the coefficient to mean that the risk associated with `Group2` $(e^{-0.340143} = 0.71167)$ is around $30\\%$ less than the risk associated with `Group1`. Since the p-value is $0.783$ we have no evidence to believe that the coefficient's true value is non-zero."
   ]
  },
  {
   "cell_type": "markdown",
   "id": "9da4fcb4",
   "metadata": {},
   "source": [
    "**(c)**"
   ]
  },
  {
   "cell_type": "markdown",
   "id": "a35cd912",
   "metadata": {},
   "source": [
    "We can perform the log-rank test in to two ways either by calling `log_likelihood_ratio_test()` on the CoxPH model we fit earlier or using `logrank_test()` on the two groups. I'll demonstrate both methods."
   ]
  },
  {
   "cell_type": "code",
   "execution_count": 29,
   "id": "a363e60a",
   "metadata": {},
   "outputs": [
    {
     "data": {
      "text/html": [
       "<div>\n",
       "<style scoped>\n",
       "    .dataframe tbody tr th:only-of-type {\n",
       "        vertical-align: middle;\n",
       "    }\n",
       "\n",
       "    .dataframe tbody tr th {\n",
       "        vertical-align: top;\n",
       "    }\n",
       "\n",
       "    .dataframe thead th {\n",
       "        text-align: right;\n",
       "    }\n",
       "</style>\n",
       "<table border=\"1\" class=\"dataframe\">\n",
       "  <tbody>\n",
       "    <tr>\n",
       "      <th>null_distribution</th>\n",
       "      <td>chi squared</td>\n",
       "    </tr>\n",
       "    <tr>\n",
       "      <th>degrees_freedom</th>\n",
       "      <td>1</td>\n",
       "    </tr>\n",
       "    <tr>\n",
       "      <th>test_name</th>\n",
       "      <td>log-likelihood ratio test</td>\n",
       "    </tr>\n",
       "  </tbody>\n",
       "</table>\n",
       "</div><table border=\"1\" class=\"dataframe\">\n",
       "  <thead>\n",
       "    <tr style=\"text-align: right;\">\n",
       "      <th></th>\n",
       "      <th>test_statistic</th>\n",
       "      <th>p</th>\n",
       "      <th>-log2(p)</th>\n",
       "    </tr>\n",
       "  </thead>\n",
       "  <tbody>\n",
       "    <tr>\n",
       "      <th>0</th>\n",
       "      <td>0.08</td>\n",
       "      <td>0.78</td>\n",
       "      <td>0.36</td>\n",
       "    </tr>\n",
       "  </tbody>\n",
       "</table>"
      ],
      "text/latex": [
       "\\begin{tabular}{lrrr}\n",
       " & test_statistic & p & -log2(p) \\\\\n",
       "0 & 0.08 & 0.78 & 0.36 \\\\\n",
       "\\end{tabular}\n"
      ],
      "text/plain": [
       "<lifelines.StatisticalResult: log-likelihood ratio test>\n",
       "null_distribution = chi squared\n",
       "  degrees_freedom = 1\n",
       "        test_name = log-likelihood ratio test\n",
       "\n",
       "---\n",
       " test_statistic    p  -log2(p)\n",
       "           0.08 0.78      0.36"
      ]
     },
     "execution_count": 29,
     "metadata": {},
     "output_type": "execute_result"
    }
   ],
   "source": [
    "cox_fit.log_likelihood_ratio_test()"
   ]
  },
  {
   "cell_type": "code",
   "execution_count": 30,
   "id": "be85946b",
   "metadata": {},
   "outputs": [
    {
     "data": {
      "text/html": [
       "<div>\n",
       "<style scoped>\n",
       "    .dataframe tbody tr th:only-of-type {\n",
       "        vertical-align: middle;\n",
       "    }\n",
       "\n",
       "    .dataframe tbody tr th {\n",
       "        vertical-align: top;\n",
       "    }\n",
       "\n",
       "    .dataframe thead th {\n",
       "        text-align: right;\n",
       "    }\n",
       "</style>\n",
       "<table border=\"1\" class=\"dataframe\">\n",
       "  <tbody>\n",
       "    <tr>\n",
       "      <th>t_0</th>\n",
       "      <td>-1</td>\n",
       "    </tr>\n",
       "    <tr>\n",
       "      <th>null_distribution</th>\n",
       "      <td>chi squared</td>\n",
       "    </tr>\n",
       "    <tr>\n",
       "      <th>degrees_of_freedom</th>\n",
       "      <td>1</td>\n",
       "    </tr>\n",
       "    <tr>\n",
       "      <th>test_name</th>\n",
       "      <td>logrank_test</td>\n",
       "    </tr>\n",
       "  </tbody>\n",
       "</table>\n",
       "</div><table border=\"1\" class=\"dataframe\">\n",
       "  <thead>\n",
       "    <tr style=\"text-align: right;\">\n",
       "      <th></th>\n",
       "      <th>test_statistic</th>\n",
       "      <th>p</th>\n",
       "      <th>-log2(p)</th>\n",
       "    </tr>\n",
       "  </thead>\n",
       "  <tbody>\n",
       "    <tr>\n",
       "      <th>0</th>\n",
       "      <td>0.08</td>\n",
       "      <td>0.78</td>\n",
       "      <td>0.35</td>\n",
       "    </tr>\n",
       "  </tbody>\n",
       "</table>"
      ],
      "text/latex": [
       "\\begin{tabular}{lrrr}\n",
       " & test_statistic & p & -log2(p) \\\\\n",
       "0 & 0.08 & 0.78 & 0.35 \\\\\n",
       "\\end{tabular}\n"
      ],
      "text/plain": [
       "<lifelines.StatisticalResult: logrank_test>\n",
       "               t_0 = -1\n",
       " null_distribution = chi squared\n",
       "degrees_of_freedom = 1\n",
       "         test_name = logrank_test\n",
       "\n",
       "---\n",
       " test_statistic    p  -log2(p)\n",
       "           0.08 0.78      0.35"
      ]
     },
     "execution_count": 30,
     "metadata": {},
     "output_type": "execute_result"
    }
   ],
   "source": [
    "by_group = df.groupby('group', observed=True)\n",
    "logrank_test(by_group.get_group('Group1')['y'],\n",
    "             by_group.get_group('Group2')['y'],\n",
    "             by_group.get_group('Group1')['delta'],\n",
    "             by_group.get_group('Group2')['delta'])"
   ]
  },
  {
   "cell_type": "markdown",
   "id": "5c8ab320",
   "metadata": {},
   "source": [
    "The p-value from the log-rank test returned by both methods is exactly the same as the p-value returned by the Cox model fit in part **(b)**, which is $p = 0.78$."
   ]
  },
  {
   "cell_type": "markdown",
   "id": "be9b2df7",
   "metadata": {},
   "source": []
  }
 ],
 "metadata": {
  "kernelspec": {
   "display_name": "islp",
   "language": "python",
   "name": "python3"
  },
  "language_info": {
   "codemirror_mode": {
    "name": "ipython",
    "version": 3
   },
   "file_extension": ".py",
   "mimetype": "text/x-python",
   "name": "python",
   "nbconvert_exporter": "python",
   "pygments_lexer": "ipython3",
   "version": "3.10.16"
  }
 },
 "nbformat": 4,
 "nbformat_minor": 5
}
